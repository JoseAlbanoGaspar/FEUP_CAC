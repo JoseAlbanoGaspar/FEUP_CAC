{
 "cells": [
  {
   "cell_type": "code",
   "execution_count": 1,
   "metadata": {
    "collapsed": false,
    "jupyter": {
     "outputs_hidden": false
    }
   },
   "outputs": [],
   "source": [
    "import pandas as pd\n",
    "import numpy as np\n",
    "\n",
    "from typing import Dict, Text\n",
    "\n",
    "import tensorflow as tf\n",
    "import tensorflow_recommenders as tfrs\n",
    "\n",
    "import matplotlib.pyplot as plt\n",
    "\n",
    "from functools import reduce\n",
    "\n",
    "from sklearn.model_selection import train_test_split"
   ]
  },
  {
   "cell_type": "code",
   "execution_count": 2,
   "metadata": {},
   "outputs": [],
   "source": [
    "EPOCHS = 10"
   ]
  },
  {
   "cell_type": "code",
   "execution_count": 3,
   "metadata": {
    "collapsed": false,
    "jupyter": {
     "outputs_hidden": false
    },
    "scrolled": true
   },
   "outputs": [
    {
     "name": "stderr",
     "output_type": "stream",
     "text": [
      "C:\\Users\\josea\\AppData\\Local\\Temp\\ipykernel_25924\\2878708627.py:1: DtypeWarning: Columns (4,8,9) have mixed types. Specify dtype option on import or set low_memory=False.\n",
      "  reviews = pd.read_csv(\"hummus/preprocessed/pp_reviews.csv\")\n"
     ]
    },
    {
     "data": {
      "text/html": [
       "<div>\n",
       "<style scoped>\n",
       "    .dataframe tbody tr th:only-of-type {\n",
       "        vertical-align: middle;\n",
       "    }\n",
       "\n",
       "    .dataframe tbody tr th {\n",
       "        vertical-align: top;\n",
       "    }\n",
       "\n",
       "    .dataframe thead th {\n",
       "        text-align: right;\n",
       "    }\n",
       "</style>\n",
       "<table border=\"1\" class=\"dataframe\">\n",
       "  <thead>\n",
       "    <tr style=\"text-align: right;\">\n",
       "      <th></th>\n",
       "      <th>Unnamed: 0</th>\n",
       "      <th>member_id</th>\n",
       "      <th>recipe_id</th>\n",
       "      <th>rating</th>\n",
       "      <th>text</th>\n",
       "      <th>likes</th>\n",
       "      <th>last_modified_date</th>\n",
       "      <th>review_id</th>\n",
       "      <th>review_url</th>\n",
       "      <th>member_url</th>\n",
       "      <th>new_member_id</th>\n",
       "      <th>new_recipe_id</th>\n",
       "    </tr>\n",
       "  </thead>\n",
       "  <tbody>\n",
       "    <tr>\n",
       "      <th>338783</th>\n",
       "      <td>338783</td>\n",
       "      <td>1173094</td>\n",
       "      <td>119107</td>\n",
       "      <td>5.0</td>\n",
       "      <td>Great recipe! i made some small modifications ...</td>\n",
       "      <td>0.0</td>\n",
       "      <td>2009-07-14</td>\n",
       "      <td>907421.0</td>\n",
       "      <td>https://www.food.com/recipe/whole-wheat-strawb...</td>\n",
       "      <td>https://www.food.com/user/1173094</td>\n",
       "      <td>95275</td>\n",
       "      <td>398319</td>\n",
       "    </tr>\n",
       "    <tr>\n",
       "      <th>554721</th>\n",
       "      <td>554721</td>\n",
       "      <td>768828</td>\n",
       "      <td>26557</td>\n",
       "      <td>5.0</td>\n",
       "      <td>Loved this.  I did add a little more tomato as...</td>\n",
       "      <td>0.0</td>\n",
       "      <td>2014-05-13</td>\n",
       "      <td>1442193.0</td>\n",
       "      <td>https://www.food.com/recipe/zucchini-or-yellow...</td>\n",
       "      <td>https://www.food.com/user/768828</td>\n",
       "      <td>1869</td>\n",
       "      <td>480312</td>\n",
       "    </tr>\n",
       "    <tr>\n",
       "      <th>988059</th>\n",
       "      <td>988059</td>\n",
       "      <td>2000800522</td>\n",
       "      <td>425023</td>\n",
       "      <td>5.0</td>\n",
       "      <td>This really looked awful, but it was delicious...</td>\n",
       "      <td>0.0</td>\n",
       "      <td>2021-09-05</td>\n",
       "      <td>2095940.0</td>\n",
       "      <td>https://www.food.com/recipe/pomelo-salad-42502...</td>\n",
       "      <td>https://www.food.com/user/2000800522</td>\n",
       "      <td>48890</td>\n",
       "      <td>143231</td>\n",
       "    </tr>\n",
       "    <tr>\n",
       "      <th>1419008</th>\n",
       "      <td>1419008</td>\n",
       "      <td>184986</td>\n",
       "      <td>140876</td>\n",
       "      <td>6.0</td>\n",
       "      <td>NaN</td>\n",
       "      <td>NaN</td>\n",
       "      <td>2013-01-31</td>\n",
       "      <td>NaN</td>\n",
       "      <td>NaN</td>\n",
       "      <td>NaN</td>\n",
       "      <td>2735</td>\n",
       "      <td>9106</td>\n",
       "    </tr>\n",
       "    <tr>\n",
       "      <th>912467</th>\n",
       "      <td>912467</td>\n",
       "      <td>2290619</td>\n",
       "      <td>368191</td>\n",
       "      <td>5.0</td>\n",
       "      <td>I really was skeptical to whether this recipe ...</td>\n",
       "      <td>0.0</td>\n",
       "      <td>2012-06-11</td>\n",
       "      <td>1311101.0</td>\n",
       "      <td>https://www.food.com/recipe/lemon-poppy-seed-q...</td>\n",
       "      <td>https://www.food.com/user/2290619</td>\n",
       "      <td>199640</td>\n",
       "      <td>111206</td>\n",
       "    </tr>\n",
       "  </tbody>\n",
       "</table>\n",
       "</div>"
      ],
      "text/plain": [
       "         Unnamed: 0   member_id  recipe_id  rating  \\\n",
       "338783       338783     1173094     119107     5.0   \n",
       "554721       554721      768828      26557     5.0   \n",
       "988059       988059  2000800522     425023     5.0   \n",
       "1419008     1419008      184986     140876     6.0   \n",
       "912467       912467     2290619     368191     5.0   \n",
       "\n",
       "                                                      text  likes  \\\n",
       "338783   Great recipe! i made some small modifications ...    0.0   \n",
       "554721   Loved this.  I did add a little more tomato as...    0.0   \n",
       "988059   This really looked awful, but it was delicious...    0.0   \n",
       "1419008                                                NaN    NaN   \n",
       "912467   I really was skeptical to whether this recipe ...    0.0   \n",
       "\n",
       "        last_modified_date  review_id  \\\n",
       "338783          2009-07-14   907421.0   \n",
       "554721          2014-05-13  1442193.0   \n",
       "988059          2021-09-05  2095940.0   \n",
       "1419008         2013-01-31        NaN   \n",
       "912467          2012-06-11  1311101.0   \n",
       "\n",
       "                                                review_url  \\\n",
       "338783   https://www.food.com/recipe/whole-wheat-strawb...   \n",
       "554721   https://www.food.com/recipe/zucchini-or-yellow...   \n",
       "988059   https://www.food.com/recipe/pomelo-salad-42502...   \n",
       "1419008                                                NaN   \n",
       "912467   https://www.food.com/recipe/lemon-poppy-seed-q...   \n",
       "\n",
       "                                   member_url  new_member_id  new_recipe_id  \n",
       "338783      https://www.food.com/user/1173094          95275         398319  \n",
       "554721       https://www.food.com/user/768828           1869         480312  \n",
       "988059   https://www.food.com/user/2000800522          48890         143231  \n",
       "1419008                                   NaN           2735           9106  \n",
       "912467      https://www.food.com/user/2290619         199640         111206  "
      ]
     },
     "execution_count": 3,
     "metadata": {},
     "output_type": "execute_result"
    }
   ],
   "source": [
    "reviews = pd.read_csv(\"hummus/preprocessed/pp_reviews.csv\")\n",
    "reviews.sample(5)"
   ]
  },
  {
   "cell_type": "code",
   "execution_count": 4,
   "metadata": {
    "collapsed": false,
    "jupyter": {
     "outputs_hidden": false
    }
   },
   "outputs": [
    {
     "name": "stderr",
     "output_type": "stream",
     "text": [
      "C:\\Users\\josea\\AppData\\Local\\Temp\\ipykernel_25924\\2296249471.py:1: DtypeWarning: Columns (35,36) have mixed types. Specify dtype option on import or set low_memory=False.\n",
      "  recipes = pd.read_csv(\"hummus/preprocessed/pp_recipes.csv\")\n"
     ]
    },
    {
     "data": {
      "text/html": [
       "<div>\n",
       "<style scoped>\n",
       "    .dataframe tbody tr th:only-of-type {\n",
       "        vertical-align: middle;\n",
       "    }\n",
       "\n",
       "    .dataframe tbody tr th {\n",
       "        vertical-align: top;\n",
       "    }\n",
       "\n",
       "    .dataframe thead th {\n",
       "        text-align: right;\n",
       "    }\n",
       "</style>\n",
       "<table border=\"1\" class=\"dataframe\">\n",
       "  <thead>\n",
       "    <tr style=\"text-align: right;\">\n",
       "      <th></th>\n",
       "      <th>Unnamed: 0</th>\n",
       "      <th>recipe_id</th>\n",
       "      <th>title</th>\n",
       "      <th>description</th>\n",
       "      <th>author_id</th>\n",
       "      <th>duration</th>\n",
       "      <th>directions</th>\n",
       "      <th>ingredients</th>\n",
       "      <th>serves</th>\n",
       "      <th>last_changed_date</th>\n",
       "      <th>...</th>\n",
       "      <th>sugars [g]</th>\n",
       "      <th>protein [g]</th>\n",
       "      <th>direction_size</th>\n",
       "      <th>ingredients_sizes</th>\n",
       "      <th>who_score</th>\n",
       "      <th>fsa_score</th>\n",
       "      <th>nutri_score</th>\n",
       "      <th>normalization_comment</th>\n",
       "      <th>ingredient_food_kg_urls</th>\n",
       "      <th>ingredient_food_kg_names</th>\n",
       "    </tr>\n",
       "  </thead>\n",
       "  <tbody>\n",
       "    <tr>\n",
       "      <th>340162</th>\n",
       "      <td>340162</td>\n",
       "      <td>300249</td>\n",
       "      <td>Gluten Free Shake and Bake Mixture</td>\n",
       "      <td>I got this recipe off Allrecipes. It's much be...</td>\n",
       "      <td>616082</td>\n",
       "      <td>25.0</td>\n",
       "      <td>['Place bread slices on a tray in a 350 degree...</td>\n",
       "      <td>{'': [('slices gluten free bread', '8  time(s)...</td>\n",
       "      <td>4</td>\n",
       "      <td>2013-12-11</td>\n",
       "      <td>...</td>\n",
       "      <td>0.1</td>\n",
       "      <td>1</td>\n",
       "      <td>4</td>\n",
       "      <td>11</td>\n",
       "      <td>0.139456</td>\n",
       "      <td>NaN</td>\n",
       "      <td>25</td>\n",
       "      <td>*</td>\n",
       "      <td>['http://idea.rpi.edu/heals/kb/ingredientname/...</td>\n",
       "      <td>['Greek yogurt', 'almonds', 'chai tea teabags'...</td>\n",
       "    </tr>\n",
       "    <tr>\n",
       "      <th>212829</th>\n",
       "      <td>212829</td>\n",
       "      <td>425927</td>\n",
       "      <td>Sugar-Free Lemon Cheesecake</td>\n",
       "      <td>I try to eat as little sugar as possible, but ...</td>\n",
       "      <td>822313</td>\n",
       "      <td>50.0</td>\n",
       "      <td>['Preheat oven to 350 degrees.', 'Beat cream c...</td>\n",
       "      <td>{'': [('packages cream cheese, softened', '2 t...</td>\n",
       "      <td>8</td>\n",
       "      <td>2010-05-17</td>\n",
       "      <td>...</td>\n",
       "      <td>11.8</td>\n",
       "      <td>71</td>\n",
       "      <td>8</td>\n",
       "      <td>7</td>\n",
       "      <td>0.021475</td>\n",
       "      <td>0.125</td>\n",
       "      <td>0</td>\n",
       "      <td>NaN</td>\n",
       "      <td>['http://idea.rpi.edu/heals/kb/ingredientname/...</td>\n",
       "      <td>['Nori Goma Furikake', 'cooked sticky rice', '...</td>\n",
       "    </tr>\n",
       "    <tr>\n",
       "      <th>352729</th>\n",
       "      <td>352729</td>\n",
       "      <td>152437</td>\n",
       "      <td>Best Ever Baked Beans</td>\n",
       "      <td>Whenever I make these, there are never leftove...</td>\n",
       "      <td>278113</td>\n",
       "      <td>40.0</td>\n",
       "      <td>['In skillet, fry chopped onions until tender....</td>\n",
       "      <td>{'': [('hot pork sausage', '0.5 time(s) lb '),...</td>\n",
       "      <td>4</td>\n",
       "      <td>2008-06-23</td>\n",
       "      <td>...</td>\n",
       "      <td>19.6</td>\n",
       "      <td>199</td>\n",
       "      <td>5</td>\n",
       "      <td>7</td>\n",
       "      <td>0.224777</td>\n",
       "      <td>0.125</td>\n",
       "      <td>25</td>\n",
       "      <td>NaN</td>\n",
       "      <td>['http://idea.rpi.edu/heals/kb/ingredientname/...</td>\n",
       "      <td>['mouthwash', 'water']</td>\n",
       "    </tr>\n",
       "    <tr>\n",
       "      <th>103393</th>\n",
       "      <td>103393</td>\n",
       "      <td>465168</td>\n",
       "      <td>Chateaubriand for Two With Lobster Tails, Chat...</td>\n",
       "      <td>This is the perfect romantic dinner because Ch...</td>\n",
       "      <td>305531</td>\n",
       "      <td>80.0</td>\n",
       "      <td>['TO PREPARE THE CHATEAU POTATOES:', 'Cut the ...</td>\n",
       "      <td>{'For the Chateaubriand': [('center-cut beef t...</td>\n",
       "      <td>2</td>\n",
       "      <td>2011-09-29</td>\n",
       "      <td>...</td>\n",
       "      <td>2.1</td>\n",
       "      <td>534</td>\n",
       "      <td>36</td>\n",
       "      <td>18</td>\n",
       "      <td>0.130207</td>\n",
       "      <td>0.250</td>\n",
       "      <td>0</td>\n",
       "      <td>NaN</td>\n",
       "      <td>['http://idea.rpi.edu/heals/kb/ingredientname/...</td>\n",
       "      <td>['Mature cheddar cheese', 'butter', 'dried her...</td>\n",
       "    </tr>\n",
       "    <tr>\n",
       "      <th>329894</th>\n",
       "      <td>329894</td>\n",
       "      <td>334616</td>\n",
       "      <td>Chipotle Garlic Salsa</td>\n",
       "      <td>The ease of preparation and the versatility of...</td>\n",
       "      <td>1006455</td>\n",
       "      <td>60.0</td>\n",
       "      <td>['Place tomatoes, with their juice, in a mediu...</td>\n",
       "      <td>{'': [('diced tomatoes', '2 time(s) (14 1/2 ou...</td>\n",
       "      <td>12</td>\n",
       "      <td>2009-05-12</td>\n",
       "      <td>...</td>\n",
       "      <td>2.7</td>\n",
       "      <td>8</td>\n",
       "      <td>3</td>\n",
       "      <td>7</td>\n",
       "      <td>0.301065</td>\n",
       "      <td>0.750</td>\n",
       "      <td>50</td>\n",
       "      <td>NaN</td>\n",
       "      <td>['http://idea.rpi.edu/heals/kb/ingredientname/...</td>\n",
       "      <td>['beef prosciutto', 'chipotle peppers', 'chive...</td>\n",
       "    </tr>\n",
       "  </tbody>\n",
       "</table>\n",
       "<p>5 rows × 37 columns</p>\n",
       "</div>"
      ],
      "text/plain": [
       "        Unnamed: 0  recipe_id  \\\n",
       "340162      340162     300249   \n",
       "212829      212829     425927   \n",
       "352729      352729     152437   \n",
       "103393      103393     465168   \n",
       "329894      329894     334616   \n",
       "\n",
       "                                                    title  \\\n",
       "340162                 Gluten Free Shake and Bake Mixture   \n",
       "212829                        Sugar-Free Lemon Cheesecake   \n",
       "352729                              Best Ever Baked Beans   \n",
       "103393  Chateaubriand for Two With Lobster Tails, Chat...   \n",
       "329894                              Chipotle Garlic Salsa   \n",
       "\n",
       "                                              description  author_id  \\\n",
       "340162  I got this recipe off Allrecipes. It's much be...     616082   \n",
       "212829  I try to eat as little sugar as possible, but ...     822313   \n",
       "352729  Whenever I make these, there are never leftove...     278113   \n",
       "103393  This is the perfect romantic dinner because Ch...     305531   \n",
       "329894  The ease of preparation and the versatility of...    1006455   \n",
       "\n",
       "        duration                                         directions  \\\n",
       "340162      25.0  ['Place bread slices on a tray in a 350 degree...   \n",
       "212829      50.0  ['Preheat oven to 350 degrees.', 'Beat cream c...   \n",
       "352729      40.0  ['In skillet, fry chopped onions until tender....   \n",
       "103393      80.0  ['TO PREPARE THE CHATEAU POTATOES:', 'Cut the ...   \n",
       "329894      60.0  ['Place tomatoes, with their juice, in a mediu...   \n",
       "\n",
       "                                              ingredients serves  \\\n",
       "340162  {'': [('slices gluten free bread', '8  time(s)...      4   \n",
       "212829  {'': [('packages cream cheese, softened', '2 t...      8   \n",
       "352729  {'': [('hot pork sausage', '0.5 time(s) lb '),...      4   \n",
       "103393  {'For the Chateaubriand': [('center-cut beef t...      2   \n",
       "329894  {'': [('diced tomatoes', '2 time(s) (14 1/2 ou...     12   \n",
       "\n",
       "       last_changed_date  ... sugars [g] protein [g] direction_size  \\\n",
       "340162        2013-12-11  ...        0.1           1              4   \n",
       "212829        2010-05-17  ...       11.8          71              8   \n",
       "352729        2008-06-23  ...       19.6         199              5   \n",
       "103393        2011-09-29  ...        2.1         534             36   \n",
       "329894        2009-05-12  ...        2.7           8              3   \n",
       "\n",
       "        ingredients_sizes  who_score  fsa_score  nutri_score  \\\n",
       "340162                 11   0.139456        NaN           25   \n",
       "212829                  7   0.021475      0.125            0   \n",
       "352729                  7   0.224777      0.125           25   \n",
       "103393                 18   0.130207      0.250            0   \n",
       "329894                  7   0.301065      0.750           50   \n",
       "\n",
       "        normalization_comment  \\\n",
       "340162                      *   \n",
       "212829                    NaN   \n",
       "352729                    NaN   \n",
       "103393                    NaN   \n",
       "329894                    NaN   \n",
       "\n",
       "                                  ingredient_food_kg_urls  \\\n",
       "340162  ['http://idea.rpi.edu/heals/kb/ingredientname/...   \n",
       "212829  ['http://idea.rpi.edu/heals/kb/ingredientname/...   \n",
       "352729  ['http://idea.rpi.edu/heals/kb/ingredientname/...   \n",
       "103393  ['http://idea.rpi.edu/heals/kb/ingredientname/...   \n",
       "329894  ['http://idea.rpi.edu/heals/kb/ingredientname/...   \n",
       "\n",
       "                                 ingredient_food_kg_names  \n",
       "340162  ['Greek yogurt', 'almonds', 'chai tea teabags'...  \n",
       "212829  ['Nori Goma Furikake', 'cooked sticky rice', '...  \n",
       "352729                             ['mouthwash', 'water']  \n",
       "103393  ['Mature cheddar cheese', 'butter', 'dried her...  \n",
       "329894  ['beef prosciutto', 'chipotle peppers', 'chive...  \n",
       "\n",
       "[5 rows x 37 columns]"
      ]
     },
     "execution_count": 4,
     "metadata": {},
     "output_type": "execute_result"
    }
   ],
   "source": [
    "recipes = pd.read_csv(\"hummus/preprocessed/pp_recipes.csv\")\n",
    "recipes['nutri_score'] = recipes['nutri_score'].apply(lambda x: int(x*100))\n",
    "recipes['protein [g]'] = recipes['protein [g]'].apply(lambda x: int(x*10))\n",
    "recipes['ingredients'] = recipes['ingredients'].apply(str)\n",
    "recipes.sample(5)"
   ]
  },
  {
   "cell_type": "code",
   "execution_count": 5,
   "metadata": {
    "collapsed": false,
    "jupyter": {
     "outputs_hidden": false
    }
   },
   "outputs": [],
   "source": [
    "reviews = pd.merge(reviews, recipes, on='recipe_id', how='inner')"
   ]
  },
  {
   "cell_type": "code",
   "execution_count": 6,
   "metadata": {},
   "outputs": [
    {
     "data": {
      "text/html": [
       "<div>\n",
       "<style scoped>\n",
       "    .dataframe tbody tr th:only-of-type {\n",
       "        vertical-align: middle;\n",
       "    }\n",
       "\n",
       "    .dataframe tbody tr th {\n",
       "        vertical-align: top;\n",
       "    }\n",
       "\n",
       "    .dataframe thead th {\n",
       "        text-align: right;\n",
       "    }\n",
       "</style>\n",
       "<table border=\"1\" class=\"dataframe\">\n",
       "  <thead>\n",
       "    <tr style=\"text-align: right;\">\n",
       "      <th></th>\n",
       "      <th>Unnamed: 0</th>\n",
       "      <th>member_id</th>\n",
       "      <th>member_url</th>\n",
       "      <th>member_name</th>\n",
       "      <th>member_description</th>\n",
       "      <th>member_status</th>\n",
       "      <th>member_avg_rating</th>\n",
       "      <th>member_map_pin</th>\n",
       "      <th>member_joined</th>\n",
       "      <th>follows_count</th>\n",
       "      <th>follow_me_count</th>\n",
       "      <th>avatar_url</th>\n",
       "      <th>new_member_id</th>\n",
       "    </tr>\n",
       "  </thead>\n",
       "  <tbody>\n",
       "    <tr>\n",
       "      <th>74977</th>\n",
       "      <td>74977</td>\n",
       "      <td>2001623746</td>\n",
       "      <td>https://www.food.com/user/2001623746</td>\n",
       "      <td>Margie D.</td>\n",
       "      <td></td>\n",
       "      <td>NaN</td>\n",
       "      <td>NaN</td>\n",
       "      <td>NaN</td>\n",
       "      <td>2017-07-01</td>\n",
       "      <td>0</td>\n",
       "      <td>0</td>\n",
       "      <td>https://geniuskitchen.sndimg.com/gk/img/avatar...</td>\n",
       "      <td>210105</td>\n",
       "    </tr>\n",
       "    <tr>\n",
       "      <th>253996</th>\n",
       "      <td>253996</td>\n",
       "      <td>2361380</td>\n",
       "      <td>https://www.food.com/user/2361380</td>\n",
       "      <td>southernangel4x4</td>\n",
       "      <td></td>\n",
       "      <td>NaN</td>\n",
       "      <td>NaN</td>\n",
       "      <td>NaN</td>\n",
       "      <td>2012-08-01</td>\n",
       "      <td>0</td>\n",
       "      <td>0</td>\n",
       "      <td>https://geniuskitchen.sndimg.com/gk/img/avatar...</td>\n",
       "      <td>79784</td>\n",
       "    </tr>\n",
       "    <tr>\n",
       "      <th>122327</th>\n",
       "      <td>122327</td>\n",
       "      <td>802872</td>\n",
       "      <td>https://www.food.com/user/802872</td>\n",
       "      <td>Chef Dean 2</td>\n",
       "      <td></td>\n",
       "      <td>Contributor</td>\n",
       "      <td>4.8</td>\n",
       "      <td>NaN</td>\n",
       "      <td>2008-03-01</td>\n",
       "      <td>0</td>\n",
       "      <td>0</td>\n",
       "      <td>https://geniuskitchen.sndimg.com/gk/img/avatar...</td>\n",
       "      <td>68982</td>\n",
       "    </tr>\n",
       "    <tr>\n",
       "      <th>52178</th>\n",
       "      <td>52178</td>\n",
       "      <td>79801</td>\n",
       "      <td>https://www.food.com/user/79801</td>\n",
       "      <td>Kari Hinkens</td>\n",
       "      <td></td>\n",
       "      <td>NaN</td>\n",
       "      <td>5.0</td>\n",
       "      <td>NaN</td>\n",
       "      <td>2003-03-01</td>\n",
       "      <td>0</td>\n",
       "      <td>0</td>\n",
       "      <td>https://geniuskitchen.sndimg.com/gk/img/avatar...</td>\n",
       "      <td>282313</td>\n",
       "    </tr>\n",
       "    <tr>\n",
       "      <th>207385</th>\n",
       "      <td>207385</td>\n",
       "      <td>2001975395</td>\n",
       "      <td>https://www.food.com/user/2001975395</td>\n",
       "      <td>Dannette J.</td>\n",
       "      <td></td>\n",
       "      <td>NaN</td>\n",
       "      <td>NaN</td>\n",
       "      <td>NaN</td>\n",
       "      <td>2018-02-01</td>\n",
       "      <td>0</td>\n",
       "      <td>0</td>\n",
       "      <td>https://geniuskitchen.sndimg.com/gk/img/avatar...</td>\n",
       "      <td>16199</td>\n",
       "    </tr>\n",
       "  </tbody>\n",
       "</table>\n",
       "</div>"
      ],
      "text/plain": [
       "        Unnamed: 0   member_id                            member_url  \\\n",
       "74977        74977  2001623746  https://www.food.com/user/2001623746   \n",
       "253996      253996     2361380     https://www.food.com/user/2361380   \n",
       "122327      122327      802872      https://www.food.com/user/802872   \n",
       "52178        52178       79801       https://www.food.com/user/79801   \n",
       "207385      207385  2001975395  https://www.food.com/user/2001975395   \n",
       "\n",
       "             member_name member_description member_status  member_avg_rating  \\\n",
       "74977          Margie D.                              NaN                NaN   \n",
       "253996  southernangel4x4                              NaN                NaN   \n",
       "122327       Chef Dean 2                      Contributor                4.8   \n",
       "52178       Kari Hinkens                              NaN                5.0   \n",
       "207385       Dannette J.                              NaN                NaN   \n",
       "\n",
       "       member_map_pin member_joined  follows_count  follow_me_count  \\\n",
       "74977             NaN    2017-07-01              0                0   \n",
       "253996            NaN    2012-08-01              0                0   \n",
       "122327            NaN    2008-03-01              0                0   \n",
       "52178             NaN    2003-03-01              0                0   \n",
       "207385            NaN    2018-02-01              0                0   \n",
       "\n",
       "                                               avatar_url  new_member_id  \n",
       "74977   https://geniuskitchen.sndimg.com/gk/img/avatar...         210105  \n",
       "253996  https://geniuskitchen.sndimg.com/gk/img/avatar...          79784  \n",
       "122327  https://geniuskitchen.sndimg.com/gk/img/avatar...          68982  \n",
       "52178   https://geniuskitchen.sndimg.com/gk/img/avatar...         282313  \n",
       "207385  https://geniuskitchen.sndimg.com/gk/img/avatar...          16199  "
      ]
     },
     "execution_count": 6,
     "metadata": {},
     "output_type": "execute_result"
    }
   ],
   "source": [
    "members = pd.read_csv(\"hummus/preprocessed/pp_members.csv\")\n",
    "members['member_description'] = members['member_description'].fillna(\"\")\n",
    "members.sample(5)"
   ]
  },
  {
   "cell_type": "code",
   "execution_count": 7,
   "metadata": {},
   "outputs": [],
   "source": [
    "reviews = pd.merge(reviews, members, on='member_id', how='inner')"
   ]
  },
  {
   "cell_type": "code",
   "execution_count": 8,
   "metadata": {
    "collapsed": false,
    "jupyter": {
     "outputs_hidden": false
    }
   },
   "outputs": [],
   "source": [
    "member_ids  = reviews[\"member_id\"].unique()\n",
    "recipe_ids = reviews[\"recipe_id\"].unique()\n",
    "titles = reviews[\"title\"].unique()\n",
    "nutri_scores = reviews[\"nutri_score\"].unique()\n",
    "proteins = reviews[\"protein [g]\"].unique()\n",
    "ingredients = reviews[\"ingredients\"].unique()\n",
    "member_descriptions = reviews[\"member_description\"].unique()\n",
    "total_ratings = len(reviews.index)"
   ]
  },
  {
   "cell_type": "code",
   "execution_count": 9,
   "metadata": {
    "collapsed": false,
    "jupyter": {
     "outputs_hidden": false
    }
   },
   "outputs": [],
   "source": [
    "class RankingModel(tf.keras.Model):\n",
    "    def __init__(self):\n",
    "        super().__init__()\n",
    "        embedding_dimension = 32\n",
    "\n",
    "        # Compute embeddings for members.\n",
    "        self.user_embeddings = tf.keras.Sequential([\n",
    "            tf.keras.layers.IntegerLookup(\n",
    "                vocabulary=member_ids, mask_token=None),\n",
    "            tf.keras.layers.Embedding(len(member_ids) + 1, embedding_dimension)\n",
    "        ])\n",
    "\n",
    "        # Compute embeddings for recipes.\n",
    "        self.recipe_embeddings = tf.keras.Sequential([\n",
    "            tf.keras.layers.IntegerLookup(\n",
    "                vocabulary=recipe_ids, mask_token=None),\n",
    "            tf.keras.layers.Embedding(len(recipe_ids) + 1, embedding_dimension)\n",
    "        ])\n",
    "        \n",
    "        # Compute embeddings for titles.\n",
    "        self.title_embeddings = tf.keras.Sequential([\n",
    "            tf.keras.layers.StringLookup(\n",
    "                vocabulary=titles, mask_token=None),\n",
    "            tf.keras.layers.Embedding(len(titles) + 1, embedding_dimension)\n",
    "        ])\n",
    "        \n",
    "        # Compute embeddings for nutri_scores.\n",
    "        self.nutri_embeddings = tf.keras.Sequential([\n",
    "            tf.keras.layers.IntegerLookup(\n",
    "                vocabulary=nutri_scores, mask_token=None),\n",
    "            tf.keras.layers.Embedding(len(nutri_scores) + 1, embedding_dimension)\n",
    "        ])\n",
    "        \n",
    "        # Compute embeddings for proteins.\n",
    "        self.protein_embeddings = tf.keras.Sequential([\n",
    "            tf.keras.layers.IntegerLookup(\n",
    "                vocabulary=proteins, mask_token=None),\n",
    "            tf.keras.layers.Embedding(len(proteins) + 1, embedding_dimension)\n",
    "        ])\n",
    "        \n",
    "        # Compute embeddings for ingredients.\n",
    "        self.ingredients_embeddings = tf.keras.Sequential([\n",
    "            tf.keras.layers.StringLookup(\n",
    "                vocabulary=ingredients, mask_token=None),\n",
    "            tf.keras.layers.Embedding(len(ingredients) + 1, embedding_dimension)\n",
    "        ])\n",
    "        \n",
    "        # Compute embeddings for member descriptions.\n",
    "        self.description_embeddings = tf.keras.Sequential([\n",
    "            tf.keras.layers.StringLookup(\n",
    "                vocabulary=member_descriptions, mask_token=None),\n",
    "            tf.keras.layers.Embedding(len(member_descriptions) + 1, embedding_dimension)\n",
    "        ])\n",
    "\n",
    "        # Compute predictions.\n",
    "        self.ratings = tf.keras.Sequential([\n",
    "            # Learn multiple dense layers.\n",
    "            tf.keras.layers.Dense(256, activation=\"relu\"),\n",
    "            tf.keras.layers.Dense(64, activation=\"relu\"),\n",
    "            # Make rating predictions in the final layer.\n",
    "            tf.keras.layers.Dense(1)\n",
    "        ])\n",
    "\n",
    "    def call(self, inputs):\n",
    "        member_id, recipe_id, title, nutri_score, protein, ingredient, description = inputs\n",
    "\n",
    "        member_embedding = self.user_embeddings(member_id)\n",
    "        recipe_embedding = self.recipe_embeddings(recipe_id)\n",
    "        title_embedding = self.title_embeddings(title)\n",
    "        nutri_score_embedding = self.nutri_embeddings(nutri_score)\n",
    "        protein_embedding = self.protein_embeddings(protein)\n",
    "        ingredient_embedding = self.ingredients_embeddings(ingredient)\n",
    "        description_embedding = self.description_embeddings(description)\n",
    "\n",
    "        return self.ratings(tf.concat([member_embedding,\n",
    "                                       recipe_embedding,\n",
    "                                       title_embedding,\n",
    "                                       nutri_score_embedding,\n",
    "                                       protein_embedding,\n",
    "                                       ingredient_embedding,\n",
    "                                       description_embedding\n",
    "                                      ], axis=1))\n"
   ]
  },
  {
   "cell_type": "code",
   "execution_count": 10,
   "metadata": {
    "collapsed": false,
    "jupyter": {
     "outputs_hidden": false
    }
   },
   "outputs": [],
   "source": [
    "class RecipesModel(tfrs.models.Model):\n",
    "    def __init__(self):\n",
    "        super().__init__()\n",
    "        self.ranking_model: tf.keras.Model = RankingModel()\n",
    "        self.task: tf.keras.layers.Layer = tfrs.tasks.Ranking(\n",
    "            loss = tf.keras.losses.MeanSquaredError(),\n",
    "            metrics=[\n",
    "                tf.keras.metrics.RootMeanSquaredError(),\n",
    "                tf.keras.metrics.MeanAbsoluteError(),\n",
    "                tf.keras.metrics.MeanSquaredError(),\n",
    "\n",
    "            ],\n",
    "        )\n",
    "\n",
    "    def call(self, features: Dict[str, tf.Tensor]) -> tf.Tensor:\n",
    "        return self.ranking_model((features[\"member_id\"],\n",
    "                                   features[\"recipe_id\"],\n",
    "                                   features['title'],\n",
    "                                   features['nutri_score'],\n",
    "                                   features['protein'],\n",
    "                                   features['ingredients'],\n",
    "                                   features['member_description']\n",
    "                                 ))\n",
    "\n",
    "    def compute_loss(self, features: Dict[Text, tf.Tensor], training=False) -> tf.Tensor:\n",
    "        labels = features[\"rating\"]\n",
    "        rating_predictions = self(features)\n",
    "\n",
    "        # The task computes the loss and the metrics.\n",
    "        return self.task(labels=labels, predictions=rating_predictions)\n"
   ]
  },
  {
   "cell_type": "code",
   "execution_count": 11,
   "metadata": {
    "collapsed": false,
    "jupyter": {
     "outputs_hidden": false
    }
   },
   "outputs": [],
   "source": [
    "train_df, test_df = train_test_split(reviews, test_size=0.2, random_state=42)\n",
    "\n",
    "train_tf = tf.data.Dataset.from_tensor_slices({\n",
    "    \"member_id\": tf.cast(train_df[\"member_id\"].values, tf.int64),\n",
    "    \"recipe_id\": tf.cast(train_df[\"recipe_id\"].values, tf.int64),\n",
    "    \"title\": tf.cast(train_df[\"title\"].values, tf.string),\n",
    "    \"nutri_score\": tf.cast(train_df[\"nutri_score\"].values, tf.int32),\n",
    "    \"protein\": tf.cast(train_df[\"protein [g]\"].values, tf.int32),\n",
    "    \"ingredients\": tf.cast(train_df[\"ingredients\"].values, tf.string),\n",
    "    \"member_description\": tf.cast(train_df[\"member_description\"].values, tf.string),\n",
    "    \"rating\": tf.cast(train_df[\"rating\"].values, tf.float32)\n",
    "})\n",
    "\n",
    "test_tf = tf.data.Dataset.from_tensor_slices({\n",
    "    \"member_id\": tf.cast(test_df[\"member_id\"].values, tf.int64),\n",
    "    \"recipe_id\": tf.cast(test_df[\"recipe_id\"].values, tf.int64),\n",
    "    \"title\": tf.cast(test_df[\"title\"].values, tf.string),\n",
    "    \"nutri_score\": tf.cast(test_df[\"nutri_score\"].values, tf.int32),\n",
    "    \"protein\": tf.cast(test_df[\"protein [g]\"].values, tf.int32),\n",
    "    \"ingredients\": tf.cast(test_df[\"ingredients\"].values, tf.string),\n",
    "    \"member_description\": tf.cast(test_df[\"member_description\"].values, tf.string),\n",
    "    \"rating\": tf.cast(test_df[\"rating\"].values, tf.float32)\n",
    "})"
   ]
  },
  {
   "cell_type": "code",
   "execution_count": 12,
   "metadata": {
    "collapsed": false,
    "jupyter": {
     "outputs_hidden": false
    }
   },
   "outputs": [],
   "source": [
    "tf.random.set_seed(42)\n",
    "train = train_tf.shuffle(100_000, seed=42, reshuffle_each_iteration=False)\n",
    "test = test_tf.shuffle(100_000, seed=42, reshuffle_each_iteration=False)"
   ]
  },
  {
   "cell_type": "code",
   "execution_count": 13,
   "metadata": {
    "collapsed": false,
    "jupyter": {
     "outputs_hidden": false
    },
    "scrolled": true
   },
   "outputs": [
    {
     "name": "stdout",
     "output_type": "stream",
     "text": [
      "Epoch 1/10\n"
     ]
    },
    {
     "name": "stderr",
     "output_type": "stream",
     "text": [
      "c:\\Users\\josea\\AppData\\Local\\Programs\\Python\\Python312\\Lib\\site-packages\\keras\\src\\layers\\layer.py:359: UserWarning: `build()` was called on layer 'recipes_model', however the layer does not have a `build()` method implemented and it looks like it has unbuilt state. This will cause the layer to be marked as built, despite not being actually built, which may cause failures down the line. Make sure to implement a proper `build()` method.\n",
      "  warnings.warn(\n"
     ]
    },
    {
     "name": "stdout",
     "output_type": "stream",
     "text": [
      "\u001b[1m186/186\u001b[0m \u001b[32m━━━━━━━━━━━━━━━━━━━━\u001b[0m\u001b[37m\u001b[0m \u001b[1m59s\u001b[0m 290ms/step - loss: 14.6742 - regularization_loss: 0.0000e+00 - total_loss: 14.7531\n",
      "Epoch 2/10\n",
      "\u001b[1m186/186\u001b[0m \u001b[32m━━━━━━━━━━━━━━━━━━━━\u001b[0m\u001b[37m\u001b[0m \u001b[1m42s\u001b[0m 225ms/step - loss: 0.9310 - regularization_loss: 0.0000e+00 - total_loss: 0.9360\n",
      "Epoch 3/10\n",
      "\u001b[1m186/186\u001b[0m \u001b[32m━━━━━━━━━━━━━━━━━━━━\u001b[0m\u001b[37m\u001b[0m \u001b[1m42s\u001b[0m 224ms/step - loss: 0.9241 - regularization_loss: 0.0000e+00 - total_loss: 0.9290\n",
      "Epoch 4/10\n",
      "\u001b[1m186/186\u001b[0m \u001b[32m━━━━━━━━━━━━━━━━━━━━\u001b[0m\u001b[37m\u001b[0m \u001b[1m42s\u001b[0m 224ms/step - loss: 0.9150 - regularization_loss: 0.0000e+00 - total_loss: 0.9200\n",
      "Epoch 5/10\n",
      "\u001b[1m186/186\u001b[0m \u001b[32m━━━━━━━━━━━━━━━━━━━━\u001b[0m\u001b[37m\u001b[0m \u001b[1m42s\u001b[0m 226ms/step - loss: 0.9039 - regularization_loss: 0.0000e+00 - total_loss: 0.9088\n",
      "Epoch 6/10\n",
      "\u001b[1m186/186\u001b[0m \u001b[32m━━━━━━━━━━━━━━━━━━━━\u001b[0m\u001b[37m\u001b[0m \u001b[1m42s\u001b[0m 227ms/step - loss: 0.8924 - regularization_loss: 0.0000e+00 - total_loss: 0.8972\n",
      "Epoch 7/10\n",
      "\u001b[1m186/186\u001b[0m \u001b[32m━━━━━━━━━━━━━━━━━━━━\u001b[0m\u001b[37m\u001b[0m \u001b[1m41s\u001b[0m 220ms/step - loss: 0.8816 - regularization_loss: 0.0000e+00 - total_loss: 0.8863\n",
      "Epoch 8/10\n",
      "\u001b[1m186/186\u001b[0m \u001b[32m━━━━━━━━━━━━━━━━━━━━\u001b[0m\u001b[37m\u001b[0m \u001b[1m41s\u001b[0m 220ms/step - loss: 0.8714 - regularization_loss: 0.0000e+00 - total_loss: 0.8761\n",
      "Epoch 9/10\n",
      "\u001b[1m186/186\u001b[0m \u001b[32m━━━━━━━━━━━━━━━━━━━━\u001b[0m\u001b[37m\u001b[0m \u001b[1m40s\u001b[0m 217ms/step - loss: 0.8622 - regularization_loss: 0.0000e+00 - total_loss: 0.8669\n",
      "Epoch 10/10\n",
      "\u001b[1m186/186\u001b[0m \u001b[32m━━━━━━━━━━━━━━━━━━━━\u001b[0m\u001b[37m\u001b[0m \u001b[1m40s\u001b[0m 216ms/step - loss: 0.8555 - regularization_loss: 0.0000e+00 - total_loss: 0.8601\n"
     ]
    },
    {
     "data": {
      "text/plain": [
       "<keras.src.callbacks.history.History at 0x19e848be360>"
      ]
     },
     "execution_count": 13,
     "metadata": {},
     "output_type": "execute_result"
    }
   ],
   "source": [
    "model = RecipesModel()\n",
    "model.compile(optimizer=tf.keras.optimizers.Adagrad(learning_rate=0.1))\n",
    "\n",
    "cached_train = train.shuffle(100_000).batch(8192).cache()\n",
    "cached_test = test.batch(4096).cache()\n",
    "model.fit(cached_train, epochs=EPOCHS)"
   ]
  },
  {
   "cell_type": "code",
   "execution_count": 14,
   "metadata": {
    "collapsed": false,
    "jupyter": {
     "outputs_hidden": false
    }
   },
   "outputs": [
    {
     "name": "stdout",
     "output_type": "stream",
     "text": [
      "\u001b[1m93/93\u001b[0m \u001b[32m━━━━━━━━━━━━━━━━━━━━\u001b[0m\u001b[37m\u001b[0m \u001b[1m8s\u001b[0m 68ms/step - loss: 0.8431 - regularization_loss: 0.0000e+00 - total_loss: 0.8521\n"
     ]
    },
    {
     "data": {
      "text/plain": [
       "{'loss': 0.0}"
      ]
     },
     "execution_count": 14,
     "metadata": {},
     "output_type": "execute_result"
    }
   ],
   "source": [
    "model.evaluate(cached_test, return_dict=True)"
   ]
  },
  {
   "cell_type": "code",
   "execution_count": 15,
   "metadata": {
    "collapsed": false,
    "jupyter": {
     "outputs_hidden": false
    }
   },
   "outputs": [],
   "source": [
    "def predict_rating(member_id, recipe_ids):\n",
    "    titles = []\n",
    "    nutri_scores = []\n",
    "    proteins = []\n",
    "    ingredients = []\n",
    "    descriptions = []\n",
    "    for recipe_id in recipe_ids:\n",
    "        titles.append(reviews[reviews['recipe_id'] == recipe_id]['title'].unique()[0])\n",
    "        nutri_scores.append(reviews[reviews['recipe_id'] == recipe_id]['nutri_score'].unique()[0])\n",
    "        proteins.append(reviews[reviews['recipe_id'] == recipe_id]['protein [g]'].unique()[0])\n",
    "        ingredients.append(reviews[reviews['recipe_id'] == recipe_id]['ingredients'].unique()[0])\n",
    "        descriptions.append(reviews[reviews['recipe_id'] == recipe_id]['member_description'].unique()[0])\n",
    "        \n",
    "    return model({\n",
    "        \"member_id\"         : tf.constant([member_id] * len(recipe_ids), dtype=tf.int64),\n",
    "        \"recipe_id\"         : tf.constant(recipe_ids, dtype=tf.int64),\n",
    "        \"title\"             : tf.constant(titles, dtype=tf.string),\n",
    "        \"nutri_score\"       : tf.constant(nutri_scores, dtype=tf.int32),\n",
    "        \"protein\"           : tf.constant(proteins, dtype=tf.int32),\n",
    "        \"ingredients\"       : tf.constant(ingredients, dtype=tf.string),\n",
    "        \"member_description\": tf.constant(descriptions, dtype=tf.string),\n",
    "    }).numpy().flatten()"
   ]
  },
  {
   "cell_type": "code",
   "execution_count": 16,
   "metadata": {
    "collapsed": false,
    "jupyter": {
     "outputs_hidden": false
    }
   },
   "outputs": [],
   "source": [
    "def real_vs_predicted_ratings(user_id):\n",
    "    real_ratings_df = test_df[test_df['member_id'] == user_id]\n",
    "    real_ratings = {}\n",
    "    predicted_ratings = {}\n",
    "    for rating in real_ratings_df.iterrows():\n",
    "        real_ratings[rating[1]['recipe_id']] = rating[1]['rating']\n",
    "    asdasd = predict_rating(user_id, list(real_ratings.keys()))\n",
    "    for idx, rating in enumerate(real_ratings):\n",
    "        predicted_ratings[rating] = asdasd[idx]\n",
    "    return real_ratings, predicted_ratings"
   ]
  },
  {
   "cell_type": "code",
   "execution_count": 17,
   "metadata": {},
   "outputs": [],
   "source": [
    "user_id = 126602\n",
    "real_ratings, predicted_ratings = real_vs_predicted_ratings(user_id)"
   ]
  },
  {
   "cell_type": "code",
   "execution_count": 18,
   "metadata": {
    "collapsed": false,
    "jupyter": {
     "outputs_hidden": false
    }
   },
   "outputs": [
    {
     "data": {
      "image/png": "[encoded data removed]",
      "text/plain": [
       "<Figure size 640x480 with 1 Axes>"
      ]
     },
     "metadata": {},
     "output_type": "display_data"
    }
   ],
   "source": [
    "# Extracting recipe_ids\n",
    "recipe_ids = list(real_ratings.keys())\n",
    "\n",
    "# Extracting values from dictionaries\n",
    "values_dict1 = [real_ratings[recipe_id] for recipe_id in recipe_ids]\n",
    "values_dict2 = [predicted_ratings[recipe_id] for recipe_id in recipe_ids]\n",
    "\n",
    "# Setting up positions for the bars\n",
    "bar_width = 0.35\n",
    "r1 = range(len(recipe_ids))\n",
    "r2 = [x + bar_width for x in r1]\n",
    "\n",
    "# Plotting the bars\n",
    "plt.bar(r1, values_dict1, color='b', width=bar_width, edgecolor='grey', label='Real rating')\n",
    "plt.bar(r2, values_dict2, color='r', width=bar_width, edgecolor='grey', label='Predicted rating')\n",
    "\n",
    "# Adding labels and title\n",
    "plt.xlabel('Recipe ID', fontweight='bold')\n",
    "plt.ylabel('Values', fontweight='bold')\n",
    "plt.xticks([r + bar_width/2 for r in range(len(recipe_ids))], recipe_ids)\n",
    "plt.title('Comparison of Values for Recipe IDs')\n",
    "plt.legend()\n",
    "# Showing the plot\n",
    "plt.savefig('recipes_member_embeddings_' + str(EPOCHS) + 'epochs.jpg')"
   ]
  },
  {
   "cell_type": "code",
   "execution_count": 19,
   "metadata": {},
   "outputs": [
    {
     "data": {
      "text/plain": [
       "member_id\n",
       "40939    24\n",
       "Name: count, dtype: int64"
      ]
     },
     "execution_count": 19,
     "metadata": {},
     "output_type": "execute_result"
    }
   ],
   "source": [
    "test_df['member_id'].value_counts().iloc[[2000]]"
   ]
  },
  {
   "cell_type": "code",
   "execution_count": 20,
   "metadata": {},
   "outputs": [],
   "source": [
    "top_10_real = list(map(lambda x: x[0], sorted(real_ratings.items(), key=lambda x: x[1], reverse=True)[:10]))"
   ]
  },
  {
   "cell_type": "code",
   "execution_count": 21,
   "metadata": {},
   "outputs": [],
   "source": [
    "top_10_predicted = list(map(lambda x: x[0], sorted(predicted_ratings.items(), key=lambda x: x[1], reverse=True)[:10]))"
   ]
  },
  {
   "cell_type": "code",
   "execution_count": 22,
   "metadata": {},
   "outputs": [
    {
     "name": "stdout",
     "output_type": "stream",
     "text": [
      "5/10\n"
     ]
    }
   ],
   "source": [
    "hits = 0\n",
    "for i in top_10_predicted:\n",
    "    if i in top_10_real: hits += 1\n",
    "\n",
    "print(f\"{hits}/10\")"
   ]
  },
  {
   "cell_type": "code",
   "execution_count": 23,
   "metadata": {},
   "outputs": [],
   "source": [
    "# Computation of P@k\n",
    "K = 10\n",
    "\n",
    "# data to analyse if the RS recommends only popular recipes\n",
    "BETTER_RATED = [45809,2886,39087,27208,89204,35813,67256,22782,32204,54257,69173,25690,73440,82102,68955] #ids of recipes\n",
    "MOST_REVIEWED = [45809,2886,27208,89204,39087,67256,35813,54257,22782,32204,420398,25690,73440,69173,68955] #ids of recipes\n",
    "\n",
    "better_rated = BETTER_RATED[:K]\n",
    "most_reviewed = MOST_REVIEWED[:K]\n",
    "\n",
    "# 1. Get unique user_ids\n",
    "test_unique_user_ids = test_df['member_id'].unique()[:int(0.01 * len(test_df['member_id'].unique()))]"
   ]
  },
  {
   "cell_type": "code",
   "execution_count": 24,
   "metadata": {},
   "outputs": [
    {
     "name": "stdout",
     "output_type": "stream",
     "text": [
      "0\n",
      "100\n",
      "200\n",
      "300\n",
      "400\n",
      "500\n",
      "600\n",
      "700\n",
      "800\n",
      "900\n",
      "Average P@10: 0.25569358178053797\n",
      "Average better_rated@10: 0.0\n",
      "Average most_reviewed@10: 0.0\n"
     ]
    }
   ],
   "source": [
    "user_rankings = {}\n",
    "\n",
    "# accumulators\n",
    "sum_precision_at_k = 0\n",
    "sum_precision_most_reviewed = 0\n",
    "sum_precision_better_rated = 0\n",
    "\n",
    "user_counter = 0\n",
    "for idx, user_id in enumerate(test_unique_user_ids):\n",
    "    if idx % 100 == 0:\n",
    "        print(idx)\n",
    "    real_ratings, predicted_ratings = real_vs_predicted_ratings(user_id)\n",
    "\n",
    "    # relevant recipes\n",
    "    real_ratings = sorted(real_ratings.items(), key=lambda x: x[1], reverse=True)\n",
    "\n",
    "    if len(real_ratings) < K or real_ratings[K - 1][1] < 5:\n",
    "        continue\n",
    "\n",
    "    # top predicted ratings\n",
    "    top_k_predictions = list(map(lambda x: x[0], sorted(predicted_ratings.items(), key=lambda x: x[1], reverse=True)[:K]))\n",
    "\n",
    "    # popularity analysis at k\n",
    "    precision_better_rated = reduce(lambda x, y : x + 1 if y in better_rated else 0, top_k_predictions, 0) / K\n",
    "    precision_most_reviewed = reduce(lambda x, y : x + 1 if y in most_reviewed else 0, top_k_predictions, 0) / K\n",
    "\n",
    "    real_ratings = list(map(lambda y: y[0], filter(lambda x : x[1] >= real_ratings[K - 1][1], real_ratings)))\n",
    "\n",
    "    precision_at_k = reduce(lambda x, y : x + 1 if y in real_ratings else 0, top_k_predictions, 0) / K\n",
    "\n",
    "    sum_precision_better_rated += precision_better_rated\n",
    "    sum_precision_most_reviewed += precision_most_reviewed\n",
    "    sum_precision_at_k += precision_at_k\n",
    "    user_counter += 1\n",
    "\n",
    "average_precision_at_k = sum_precision_at_k / user_counter\n",
    "average_most_reviewed_at_k = sum_precision_most_reviewed / user_counter\n",
    "average_better_rated_at_k = sum_precision_better_rated / user_counter\n",
    "\n",
    "print(f'Average P@{K}: {average_precision_at_k}')\n",
    "print(f'Average better_rated@{K}: {average_better_rated_at_k}')\n",
    "print(f'Average most_reviewed@{K}: {average_most_reviewed_at_k}')\n",
    "  "
   ]
  },
  {
   "cell_type": "code",
   "execution_count": 25,
   "metadata": {},
   "outputs": [],
   "source": [
    "# analysis: see how different from the baseline (most_reviewed and better_rated) is our model\n",
    "test_unique_user_ids = test_df['member_id'].unique()"
   ]
  }
 ],
 "metadata": {
  "kernelspec": {
   "display_name": "Python 3 (ipykernel)",
   "language": "python",
   "name": "python3"
  },
  "language_info": {
   "codemirror_mode": {
    "name": "ipython",
    "version": 3
   },
   "file_extension": ".py",
   "mimetype": "text/x-python",
   "name": "python",
   "nbconvert_exporter": "python",
   "pygments_lexer": "ipython3",
   "version": "3.12.0"
  }
 },
 "nbformat": 4,
 "nbformat_minor": 4
}
